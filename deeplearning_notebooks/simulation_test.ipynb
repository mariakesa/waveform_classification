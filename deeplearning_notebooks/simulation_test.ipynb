{
 "cells": [
  {
   "cell_type": "code",
   "execution_count": 2,
   "id": "aeb39084",
   "metadata": {},
   "outputs": [],
   "source": [
    "import neuron\n",
    "from neuron import h\n",
    "from neuron.units import ms, mV"
   ]
  },
  {
   "cell_type": "code",
   "execution_count": 3,
   "id": "22a46f1a",
   "metadata": {},
   "outputs": [],
   "source": [
    "soma = h.Section(name=\"soma\")"
   ]
  },
  {
   "cell_type": "code",
   "execution_count": 4,
   "id": "313193f3",
   "metadata": {},
   "outputs": [],
   "source": [
    "soma.L = 20\n",
    "soma.diam = 20"
   ]
  },
  {
   "cell_type": "code",
   "execution_count": 5,
   "id": "3bff976f",
   "metadata": {
    "scrolled": true
   },
   "outputs": [
    {
     "data": {
      "text/plain": [
       "soma"
      ]
     },
     "execution_count": 5,
     "metadata": {},
     "output_type": "execute_result"
    }
   ],
   "source": [
    "soma.insert(\"hh\")"
   ]
  },
  {
   "cell_type": "code",
   "execution_count": 6,
   "id": "254ae945",
   "metadata": {},
   "outputs": [
    {
     "ename": "NameError",
     "evalue": "name 'iclamp' is not defined",
     "output_type": "error",
     "traceback": [
      "\u001b[0;31m---------------------------------------------------------------------------\u001b[0m",
      "\u001b[0;31mNameError\u001b[0m                                 Traceback (most recent call last)",
      "Cell \u001b[0;32mIn[6], line 1\u001b[0m\n\u001b[0;32m----> 1\u001b[0m \u001b[43miclamp\u001b[49m\u001b[38;5;241m.\u001b[39mdelay \u001b[38;5;241m=\u001b[39m \u001b[38;5;241m2\u001b[39m\n\u001b[1;32m      2\u001b[0m iclamp\u001b[38;5;241m.\u001b[39mdur \u001b[38;5;241m=\u001b[39m \u001b[38;5;241m0.1\u001b[39m\n\u001b[1;32m      3\u001b[0m iclamp\u001b[38;5;241m.\u001b[39mamp \u001b[38;5;241m=\u001b[39m \u001b[38;5;241m0.9\u001b[39m\n",
      "\u001b[0;31mNameError\u001b[0m: name 'iclamp' is not defined"
     ]
    }
   ],
   "source": [
    "iclamp.delay = 2\n",
    "iclamp.dur = 0.1\n",
    "iclamp.amp = 0.9"
   ]
  }
 ],
 "metadata": {
  "kernelspec": {
   "display_name": "Python 3 (ipykernel)",
   "language": "python",
   "name": "python3"
  },
  "language_info": {
   "codemirror_mode": {
    "name": "ipython",
    "version": 3
   },
   "file_extension": ".py",
   "mimetype": "text/x-python",
   "name": "python",
   "nbconvert_exporter": "python",
   "pygments_lexer": "ipython3",
   "version": "3.9.13"
  }
 },
 "nbformat": 4,
 "nbformat_minor": 5
}
